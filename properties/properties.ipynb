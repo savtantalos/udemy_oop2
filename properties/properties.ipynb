{
 "cells": [
  {
   "cell_type": "code",
   "execution_count": 1,
   "metadata": {},
   "outputs": [
    {
     "name": "stdout",
     "output_type": "stream",
     "text": [
      "hello\n"
     ]
    }
   ],
   "source": [
    "print('hello')\n",
    "\n"
   ]
  },
  {
   "cell_type": "code",
   "execution_count": 18,
   "metadata": {},
   "outputs": [],
   "source": [
    "class Customer:\n",
    "    loyalty_level = {'silver', 'gold', 'platinum'}\n",
    "    membership_level = {'min': 0, 'max': 100}\n",
    "\n",
    "    def __init__(self ,loyalty, membership):\n",
    "        self._loyalty = loyalty\n",
    "        self._membership = membership\n",
    "\n",
    "    # @property\n",
    "    # def loyalty(self):\n",
    "    #     return self._loyalty\n",
    "\n",
    "    @property\n",
    "    def loyalty(self ,level):\n",
    "        if level in Customer.loyalty_level:\n",
    "            self._loyalty = level\n",
    "        else:\n",
    "            raise ValueError(f'{level} is not a valid loyalty level')\n",
    "\n",
    "    @property\n",
    "    def membership(self):\n",
    "        return self._membership\n",
    "\n",
    "    @membership.setter\n",
    "    def membership(self, level):\n",
    "        if level>=Customer.membership_level['max'] or level<=Customer.membership_level['min']:\n",
    "            raise ValueError(f'{level} is not a valid membership level')\n",
    "        else:\n",
    "            self._membership = level"
   ]
  },
  {
   "cell_type": "code",
   "execution_count": 20,
   "metadata": {},
   "outputs": [
    {
     "ename": "AttributeError",
     "evalue": "can't set attribute 'loyalty'",
     "output_type": "error",
     "traceback": [
      "\u001b[0;31m---------------------------------------------------------------------------\u001b[0m",
      "\u001b[0;31mAttributeError\u001b[0m                            Traceback (most recent call last)",
      "Cell \u001b[0;32mIn[20], line 2\u001b[0m\n\u001b[1;32m      1\u001b[0m x \u001b[39m=\u001b[39m Customer(\u001b[39m'\u001b[39m\u001b[39msilver\u001b[39m\u001b[39m'\u001b[39m,\u001b[39m5\u001b[39m)\n\u001b[0;32m----> 2\u001b[0m x\u001b[39m.\u001b[39;49mloyalty \u001b[39m=\u001b[39m \u001b[39m'\u001b[39m\u001b[39mgold\u001b[39m\u001b[39m'\u001b[39m\n",
      "\u001b[0;31mAttributeError\u001b[0m: can't set attribute 'loyalty'"
     ]
    }
   ],
   "source": [
    "x = Customer('silver',5)\n",
    "x.loyalty = 'gold'"
   ]
  },
  {
   "cell_type": "code",
   "execution_count": 10,
   "metadata": {},
   "outputs": [
    {
     "data": {
      "text/plain": [
       "<__main__.Customer at 0x7fec8889ff10>"
      ]
     },
     "execution_count": 10,
     "metadata": {},
     "output_type": "execute_result"
    }
   ],
   "source": [
    "x"
   ]
  },
  {
   "cell_type": "code",
   "execution_count": null,
   "metadata": {},
   "outputs": [],
   "source": []
  }
 ],
 "metadata": {
  "kernelspec": {
   "display_name": "Python-Finance-QuantConnect",
   "language": "python",
   "name": "python3"
  },
  "language_info": {
   "codemirror_mode": {
    "name": "ipython",
    "version": 3
   },
   "file_extension": ".py",
   "mimetype": "text/x-python",
   "name": "python",
   "nbconvert_exporter": "python",
   "pygments_lexer": "ipython3",
   "version": "3.10.9"
  },
  "orig_nbformat": 4
 },
 "nbformat": 4,
 "nbformat_minor": 2
}
